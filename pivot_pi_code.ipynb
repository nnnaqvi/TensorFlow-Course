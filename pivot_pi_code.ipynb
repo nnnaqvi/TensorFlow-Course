{
  "nbformat": 4,
  "nbformat_minor": 0,
  "metadata": {
    "colab": {
      "name": "pivot pi code",
      "provenance": [],
      "authorship_tag": "ABX9TyMizNZ2IROy0bJkOXslgwfv",
      "include_colab_link": true
    },
    "kernelspec": {
      "name": "python3",
      "display_name": "Python 3"
    },
    "language_info": {
      "name": "python"
    }
  },
  "cells": [
    {
      "cell_type": "markdown",
      "metadata": {
        "id": "view-in-github",
        "colab_type": "text"
      },
      "source": [
        "<a href=\"https://colab.research.google.com/github/nnnaqvi/TensorFlow-Course/blob/master/pivot_pi_code.ipynb\" target=\"_parent\"><img src=\"https://colab.research.google.com/assets/colab-badge.svg\" alt=\"Open In Colab\"/></a>"
      ]
    },
    {
      "cell_type": "code",
      "metadata": {
        "id": "2DMXMoPu15tG",
        "colab": {
          "base_uri": "https://localhost:8080/",
          "height": 367
        },
        "outputId": "9b62f4a7-2452-42bf-a777-5a46607a1ab9"
      },
      "source": [
        "import PCA9685\n",
        "\n",
        "SERVO_1 = 0\n",
        "SERVO_2 = 1\n",
        "SERVO_3 = 2\n",
        "SERVO_4 = 3\n",
        "SERVO_5 = 4\n",
        "SERVO_6 = 5\n",
        "SERVO_7 = 6\n",
        "SERVO_8 = 7\n",
        "\n",
        "#map 0-180 to pulse length between 150-600\n",
        "def translate(value, leftMin, leftMax, rightMin, rightMax):\n",
        "    # Figure out how 'wide' each range is\n",
        "    leftSpan = leftMax - leftMin\n",
        "    rightSpan = rightMax - rightMin\n",
        "\n",
        "    # Convert the left range into a 0-1 range (float)\n",
        "    valueScaled = float(value - leftMin) / float(leftSpan)\n",
        "\n",
        "    # Convert the 0-1 range into a value in the right range.\n",
        "    return int(rightMin + (valueScaled * rightSpan))\n",
        "\n",
        "class PivotPi(object):\n",
        "    servo_controller=None\n",
        "    addr_00=0x40\n",
        "    addr_01=0x41\n",
        "    addr_10=0x42\n",
        "    addr_11=0x43\n",
        "    \n",
        "    # Configure min and max servo pulse lengths\n",
        "    servo_min = 150  # Min pulse length out of 4096\n",
        "    servo_max = 600  # Max pulse length out of 4096\n",
        "    frequency = 60;\n",
        "    def __init__(self, addr = 0x40, actual_frequency = 60):\n",
        "        '''\n",
        "        Set the address and optionally the PWM frequency, which should be 60Hz, but can be off by at least 5%. \n",
        "        One sample pivotpi measures at about 59.1, another at about 60.1, and yet another at about 63.5Hz.\n",
        "        '''\n",
        "        try:\n",
        "            self.servo_controller = PCA9685.PCA9685(address=addr)\n",
        "            self.frequency = actual_frequency;\n",
        "            \n",
        "            # Set frequency to 60hz, good for servos.\n",
        "            self.servo_controller.set_pwm_freq(self.frequency)\n",
        "        except:\n",
        "            # pass\n",
        "            raise IOError(\"PivotPi not connected\")\n",
        "        return\n",
        "    \n",
        "    def pwm(self, channel, on, off):\n",
        "        try:\n",
        "            self.servo_controller.set_pwm(channel, on, off)\n",
        "        except:\n",
        "            raise IOError(\"PivotPi not connected\")\n",
        "    \n",
        "    def angle(self, channel, angle):\n",
        "        if angle >= 0 and angle <= 180 and channel >= 0 and channel <= 7:\n",
        "            pwm_to_send = 4095 - translate(angle, 0, 180, self.servo_min, self.servo_max)\n",
        "            try:\n",
        "                self.servo_controller.set_pwm(channel, 0, int(pwm_to_send))\n",
        "                return 1\n",
        "            except:\n",
        "                raise IOError(\"PivotPi not connected\")\n",
        "        return -1\n",
        "    \n",
        "    def angle_microseconds(self, channel, time):\n",
        "        if channel >= 0 and channel <= 7:\n",
        "            try:\n",
        "                if(time <= 0):\n",
        "                    self.servo_controller.set_pwm(channel, 4096, 4095)\n",
        "                else:\n",
        "                    pwm_to_send = 4095 - ((4096.0 / (1000000.0 / self.frequency)) * time)\n",
        "                    if(pwm_to_send < 0):\n",
        "                        pwm_to_send = 0\n",
        "                    if(pwm_to_send > 4095):\n",
        "                        pwm_to_send = 4095\n",
        "                    self.servo_controller.set_pwm(channel, 0, int(pwm_to_send))\n",
        "                return 1\n",
        "            except:\n",
        "                raise IOError(\"PivotPi not connected\")\n",
        "        return -1\n",
        "    \n",
        "    def led(self, channel, percent):\n",
        "        if channel >= 0 and channel <= 7:\n",
        "            try:\n",
        "                if(percent >= 100):\n",
        "                    self.servo_controller.set_pwm(channel + 8, 4096, 4095)\n",
        "                else:\n",
        "                    if(percent < 0):\n",
        "                        percent = 0\n",
        "                    pwm_to_send = percent * 40.95\n",
        "                    self.servo_controller.set_pwm(channel + 8, 0, int(pwm_to_send))\n",
        "                return 1\n",
        "            except:\n",
        "                raise IOError(\"PivotPi not connected\")\n",
        "        return -1"
      ],
      "execution_count": 1,
      "outputs": [
        {
          "output_type": "error",
          "ename": "ModuleNotFoundError",
          "evalue": "ignored",
          "traceback": [
            "\u001b[0;31m---------------------------------------------------------------------------\u001b[0m",
            "\u001b[0;31mModuleNotFoundError\u001b[0m                       Traceback (most recent call last)",
            "\u001b[0;32m<ipython-input-1-76c01dd13164>\u001b[0m in \u001b[0;36m<module>\u001b[0;34m()\u001b[0m\n\u001b[0;32m----> 1\u001b[0;31m \u001b[0;32mimport\u001b[0m \u001b[0mPCA9685\u001b[0m\u001b[0;34m\u001b[0m\u001b[0;34m\u001b[0m\u001b[0m\n\u001b[0m\u001b[1;32m      2\u001b[0m \u001b[0;34m\u001b[0m\u001b[0m\n\u001b[1;32m      3\u001b[0m \u001b[0mSERVO_1\u001b[0m \u001b[0;34m=\u001b[0m \u001b[0;36m0\u001b[0m\u001b[0;34m\u001b[0m\u001b[0;34m\u001b[0m\u001b[0m\n\u001b[1;32m      4\u001b[0m \u001b[0mSERVO_2\u001b[0m \u001b[0;34m=\u001b[0m \u001b[0;36m1\u001b[0m\u001b[0;34m\u001b[0m\u001b[0;34m\u001b[0m\u001b[0m\n\u001b[1;32m      5\u001b[0m \u001b[0mSERVO_3\u001b[0m \u001b[0;34m=\u001b[0m \u001b[0;36m2\u001b[0m\u001b[0;34m\u001b[0m\u001b[0;34m\u001b[0m\u001b[0m\n",
            "\u001b[0;31mModuleNotFoundError\u001b[0m: No module named 'PCA9685'",
            "",
            "\u001b[0;31m---------------------------------------------------------------------------\u001b[0;32m\nNOTE: If your import is failing due to a missing package, you can\nmanually install dependencies using either !pip or !apt.\n\nTo view examples of installing some common dependencies, click the\n\"Open Examples\" button below.\n\u001b[0;31m---------------------------------------------------------------------------\u001b[0m\n"
          ]
        }
      ]
    },
    {
      "cell_type": "code",
      "metadata": {
        "id": "i7-SzhYT3Tf6"
      },
      "source": [
        ""
      ],
      "execution_count": null,
      "outputs": []
    }
  ]
}